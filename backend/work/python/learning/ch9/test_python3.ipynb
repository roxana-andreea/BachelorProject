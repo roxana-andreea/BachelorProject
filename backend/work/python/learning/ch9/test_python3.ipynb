{
 "cells": [
  {
   "cell_type": "code",
   "execution_count": 3,
   "metadata": {
    "collapsed": false
   },
   "outputs": [],
   "source": [
    "import json\n",
    "import calendar\n",
    "import random\n",
    "from datetime import date, timedelta\n",
    "\n",
    "import faker\n",
    "import numpy as np\n",
    "from pandas import DataFrame\n",
    "from delorean import parse\n",
    "import pandas as pd\n",
    "\n",
    "# make the graphs nicer\n",
    "#  pd.set_option('display.mpl_style', 'default')"
   ]
  },
  {
   "cell_type": "code",
   "execution_count": 5,
   "metadata": {
    "collapsed": true
   },
   "outputs": [],
   "source": [
    "fake = faker.Faker()"
   ]
  },
  {
   "cell_type": "code",
   "execution_count": 8,
   "metadata": {
    "collapsed": false
   },
   "outputs": [],
   "source": [
    "usernames = set()\n",
    "usernames_no = 1000\n",
    "# populate the set with 1000 unique usernames\n",
    "while len(usernames) < usernames_no:\n",
    "    usernames.add(fake.user_name())"
   ]
  },
  {
   "cell_type": "code",
   "execution_count": 9,
   "metadata": {
    "collapsed": false
   },
   "outputs": [
    {
     "data": {
      "text/plain": [
       "['{\"address\": \"7513 Schaden Vista\\\\nEast Dakoda, MH 56436\", \"email\": \"kwalter@padberg.com\", \"name\": \"Ira Barrows MD\", \"username\": \"lmckenzie\", \"gender\": \"F\", \"age\": 43}',\n",
       " '{\"address\": \"6677 Jake Flat Suite 631\\\\nFelicitasland, NC 61734-7906\", \"email\": \"maryanndaniel@white.net\", \"name\": \"Miss Leonora Hand\", \"username\": \"lmosciski\", \"gender\": \"F\", \"age\": 37}',\n",
       " '{\"address\": \"0498 Schultz Fall\\\\nPort Clara, SC 78226\", \"email\": \"robbie19@gmail.com\", \"name\": \"Efrain Mitchell\", \"username\": \"wbeier\", \"gender\": \"M\", \"age\": 84}']"
      ]
     },
     "execution_count": 9,
     "metadata": {},
     "output_type": "execute_result"
    }
   ],
   "source": [
    "def get_random_name_and_gender():\n",
    "    skew = .6  # 60% of users will be female\n",
    "    male = random.random() > skew\n",
    "    if male:\n",
    "        return fake.name_male(), 'M'\n",
    "    else:\n",
    "        return fake.name_female(), 'F'\n",
    "\n",
    "def get_users(usernames):\n",
    "    users = []\n",
    "    for username in usernames:\n",
    "        name, gender = get_random_name_and_gender()\n",
    "        user = {\n",
    "            'username': username,\n",
    "            'name': name,\n",
    "            'gender': gender,\n",
    "            'email': fake.email(),\n",
    "            'age': fake.random_int(min=18, max=90),\n",
    "            'address': fake.address(),\n",
    "        }\n",
    "        users.append(json.dumps(user))\n",
    "    return users\n",
    "\n",
    "users = get_users(usernames)\n",
    "users[:3]"
   ]
  },
  {
   "cell_type": "code",
   "execution_count": 10,
   "metadata": {
    "collapsed": true
   },
   "outputs": [],
   "source": [
    "# campaign name format:\n",
    "# InternalType_StartDate_EndDate_TargetAge_TargetGender_Currency\n",
    "def get_type():\n",
    "    # just some gibberish internal codes\n",
    "    types = ['AKX', 'BYU', 'GRZ', 'KTR']\n",
    "    return random.choice(types)\n",
    "\n",
    "def get_start_end_dates():\n",
    "    duration = random.randint(1, 2 * 365)\n",
    "    offset = random.randint(-365, 365)\n",
    "    start = date.today() - timedelta(days=offset)\n",
    "    end = start + timedelta(days=duration)\n",
    "    \n",
    "    def _format_date(date_):\n",
    "        return date_.strftime(\"%Y%m%d\")\n",
    "    \n",
    "    return _format_date(start), _format_date(end)\n",
    "\n",
    "def get_age():\n",
    "    age = random.randint(20, 45)\n",
    "    age -= age % 5\n",
    "    diff = random.randint(5, 25)\n",
    "    diff -= diff % 5\n",
    "    return '{}-{}'.format(age, age + diff)\n",
    "\n",
    "def get_gender():\n",
    "    return random.choice(('M', 'F', 'B'))\n",
    "\n",
    "def get_currency():\n",
    "    return random.choice(('GBP', 'EUR', 'USD'))\n",
    "\n",
    "def get_campaign_name():\n",
    "    separator = '_'\n",
    "    type_ = get_type()\n",
    "    start_end = separator.join(get_start_end_dates())\n",
    "    age = get_age()\n",
    "    gender = get_gender()\n",
    "    currency = get_currency()\n",
    "    return separator.join(\n",
    "        (type_, start_end, age, gender, currency))"
   ]
  },
  {
   "cell_type": "code",
   "execution_count": null,
   "metadata": {
    "collapsed": true
   },
   "outputs": [],
   "source": []
  }
 ],
 "metadata": {
  "kernelspec": {
   "display_name": "Python 3",
   "language": "python",
   "name": "python3"
  },
  "language_info": {
   "codemirror_mode": {
    "name": "ipython",
    "version": 3
   },
   "file_extension": ".py",
   "mimetype": "text/x-python",
   "name": "python",
   "nbconvert_exporter": "python",
   "pygments_lexer": "ipython3",
   "version": "3.5.1"
  }
 },
 "nbformat": 4,
 "nbformat_minor": 0
}
